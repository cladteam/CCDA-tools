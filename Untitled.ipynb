{
 "cells": [
  {
   "cell_type": "code",
   "execution_count": null,
   "id": "9bc17fe8-2071-49d4-9890-b9074feb532e",
   "metadata": {
    "tags": []
   },
   "outputs": [],
   "source": [
    "from foundry.transforms import Dataset\n",
    "\n",
    "omop_concept = Dataset.get(\"omop_concept\").read_table(format=\"pandas\")"
   ]
  },
  {
   "cell_type": "code",
   "execution_count": null,
   "id": "9fb53fe5-5195-4f04-a4cf-a1f4748eac5a",
   "metadata": {
    "tags": []
   },
   "outputs": [],
   "source": [
    "from foundry.transforms import Dataset\n",
    "\n",
    "omop_concept = Dataset.get(\"omop_concept\")\n",
    "omop_concept_files = omop_concept.files().download()"
   ]
  },
  {
   "cell_type": "code",
   "execution_count": null,
   "id": "b2e0fa23-0eaa-4a68-a96c-ea806a520bb7",
   "metadata": {},
   "outputs": [],
   "source": []
  }
 ],
 "metadata": {
  "kernelspec": {
   "display_name": "Python [user-default]",
   "language": "python",
   "name": "conda-env-user-default-py"
  },
  "language_info": {
   "codemirror_mode": {
    "name": "ipython",
    "version": 3
   },
   "file_extension": ".py",
   "mimetype": "text/x-python",
   "name": "python",
   "nbconvert_exporter": "python",
   "pygments_lexer": "ipython3",
   "version": "3.12.7"
  }
 },
 "nbformat": 4,
 "nbformat_minor": 5
}

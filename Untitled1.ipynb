{
 "cells": [
  {
   "cell_type": "code",
   "execution_count": null,
   "id": "2b3df99d-a18b-4ff9-a855-233d55ed35f2",
   "metadata": {
    "tags": []
   },
   "outputs": [],
   "source": [
    "from foundry.transforms import Dataset\n",
    "\n",
    "omop_concept = Dataset.get(\"omop_concept\").read_table(format=\"pandas\")"
   ]
  },
  {
   "cell_type": "code",
   "execution_count": null,
   "id": "2e1619fc-4ff4-4f74-a5c1-b0b126a3c9c2",
   "metadata": {
    "tags": []
   },
   "outputs": [],
   "source": [
    "# Assuming df is your DataFrame\n",
    "cpt4_df = omop_concept[omop_concept['vocabulary_id'] == 'CPT4']\n",
    "\n",
    "# Display the filtered DataFrame\n",
    "print(cpt4_df)"
   ]
  },
  {
   "cell_type": "code",
   "execution_count": null,
   "id": "7d7e2903-cf57-4334-883b-7b887bb7b924",
   "metadata": {},
   "outputs": [],
   "source": []
  }
 ],
 "metadata": {
  "kernelspec": {
   "display_name": "Python [user-default]",
   "language": "python",
   "name": "conda-env-user-default-py"
  },
  "language_info": {
   "codemirror_mode": {
    "name": "ipython",
    "version": 3
   },
   "file_extension": ".py",
   "mimetype": "text/x-python",
   "name": "python",
   "nbconvert_exporter": "python",
   "pygments_lexer": "ipython3",
   "version": "3.12.7"
  }
 },
 "nbformat": 4,
 "nbformat_minor": 5
}

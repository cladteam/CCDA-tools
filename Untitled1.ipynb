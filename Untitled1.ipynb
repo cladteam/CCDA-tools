{
 "cells": [
  {
   "cell_type": "code",
   "execution_count": null,
   "id": "2b3df99d-a18b-4ff9-a855-233d55ed35f2",
   "metadata": {
    "tags": []
   },
   "outputs": [],
   "source": [
    "import os\n",
    "import pandas as pd\n",
    "from lxml import etree\n",
    "\n",
    "# Load and parse the XML file\n",
    "with open('./resources/Patient-502.xml', 'rb') as file:\n",
    "    tree = etree.parse(file)\n",
    "\n",
    "# Define namespaces to use when searching\n",
    "ns = {'hl7': 'urn:hl7-org:v3'}"
   ]
  },
  {
   "cell_type": "code",
   "execution_count": null,
   "id": "f45d824e-4b23-4fc4-b45f-676307e5ac41",
   "metadata": {
    "tags": []
   },
   "outputs": [],
   "source": [
    "gender_code = tree.find('.//hl7:administrativeGenderCode', namespaces=ns)\n",
    "gender = gender_code.get('displayName') if gender_code is not None else 'Unknown'\n",
    "\n",
    "# Extract race\n",
    "race_code = tree.find('.//hl7:raceCode', namespaces=ns)\n",
    "race = race_code.get('displayName') if race_code is not None else 'Unknown'\n",
    "\n",
    "# Extract ethnicity\n",
    "ethnicity_code = tree.find('.//hl7:ethnicGroupCode', namespaces=ns)\n",
    "ethnicity = ethnicity_code.get('displayName') if ethnicity_code is not None else 'Unknown'\n",
    "\n",
    "# Print the results\n",
    "print(f'Gender: {gender}')\n",
    "print(f'Race: {race}')\n",
    "print(f'Ethnicity: {ethnicity}')"
   ]
  },
  {
   "cell_type": "code",
   "execution_count": null,
   "id": "58dc6a58-cd60-4b89-98b9-3cc003fc8e16",
   "metadata": {
    "tags": []
   },
   "outputs": [],
   "source": [
    "import os\n",
    "import pandas as pd\n",
    "from lxml import etree\n",
    "from collections import defaultdict\n",
    "\n",
    "# Directory containing the XML files\n",
    "directory_path = './resources/'\n",
    "\n",
    "# Initialize counters for each category\n",
    "gender_count = defaultdict(int)\n",
    "race_count = defaultdict(int)\n",
    "ethnicity_count = defaultdict(int)\n",
    "\n",
    "# Define namespaces to use when searching\n",
    "ns = {'hl7': 'urn:hl7-org:v3'}\n",
    "\n",
    "# Iterate over all XML files in the directory\n",
    "for filename in os.listdir(directory_path):\n",
    "    if filename.endswith('.xml'):\n",
    "        file_path = os.path.join(directory_path, filename)\n",
    "\n",
    "        # Load and parse the XML file\n",
    "        try:\n",
    "            with open(file_path, 'rb') as file:\n",
    "                tree = etree.parse(file)\n",
    "\n",
    "            # Extract administrative gender\n",
    "            gender_code = tree.find('.//hl7:administrativeGenderCode', namespaces=ns)\n",
    "            gender = gender_code.get('displayName') if gender_code is not None else 'Unknown'\n",
    "            gender_count[gender] += 1\n",
    "\n",
    "            # Extract race\n",
    "            race_code = tree.find('.//hl7:raceCode', namespaces=ns)\n",
    "            race = race_code.get('displayName') if race_code is not None else 'Unknown'\n",
    "            race_count[race] += 1\n",
    "\n",
    "            # Extract ethnicity\n",
    "            ethnicity_code = tree.find('.//hl7:ethnicGroupCode', namespaces=ns)\n",
    "            ethnicity = ethnicity_code.get('displayName') if ethnicity_code is not None else 'Unknown'\n",
    "            ethnicity_count[ethnicity] += 1\n",
    "\n",
    "        except Exception as e:\n",
    "            print(f\"Failed to parse {filename}: {e}\")"
   ]
  },
  {
   "cell_type": "code",
   "execution_count": null,
   "id": "4c86058a-36b4-4185-8ba6-72bf41d46c19",
   "metadata": {
    "tags": []
   },
   "outputs": [],
   "source": [
    "# Print the summary counts\n",
    "print(\"Gender Counts:\")\n",
    "for gender, count in gender_count.items():\n",
    "    print(f\"{gender}: {count}\")\n",
    "\n",
    "print(\"\\nRace Counts:\")\n",
    "for race, count in race_count.items():\n",
    "    print(f\"{race}: {count}\")\n",
    "\n",
    "print(\"\\nEthnicity Counts:\")\n",
    "for ethnicity, count in ethnicity_count.items():\n",
    "    print(f\"{ethnicity}: {count}\")"
   ]
  },
  {
   "cell_type": "code",
   "execution_count": null,
   "id": "808ab03a-a5f6-480a-aad2-66a3a7cf0071",
   "metadata": {
    "tags": []
   },
   "outputs": [],
   "source": [
    "import os\n",
    "import pandas as pd\n",
    "from lxml import etree\n",
    "\n",
    "# Directory containing the XML files\n",
    "directory_path = './resources/'\n",
    "\n",
    "# Define namespaces to use when searching\n",
    "ns = {'hl7': 'urn:hl7-org:v3'}\n",
    "\n",
    "# Initialize a list to store records for DataFrame\n",
    "data_records = []\n",
    "\n",
    "# Iterate over all XML files in the directory\n",
    "for filename in os.listdir(directory_path):\n",
    "    if filename.endswith('.xml'):\n",
    "        file_path = os.path.join(directory_path, filename)\n",
    "\n",
    "        # Load and parse the XML file\n",
    "        try:\n",
    "            with open(file_path, 'rb') as file:\n",
    "                tree = etree.parse(file)\n",
    "\n",
    "            # Extract administrative gender\n",
    "            gender_code = tree.find('.//hl7:administrativeGenderCode', namespaces=ns)\n",
    "            gender = gender_code.get('displayName') if gender_code is not None else 'Unknown'\n",
    "\n",
    "            # Extract race\n",
    "            race_code = tree.find('.//hl7:raceCode', namespaces=ns)\n",
    "            race = race_code.get('displayName') if race_code is not None else 'Unknown'\n",
    "\n",
    "            # Extract ethnicity\n",
    "            ethnicity_code = tree.find('.//hl7:ethnicGroupCode', namespaces=ns)\n",
    "            ethnicity = ethnicity_code.get('displayName') if ethnicity_code is not None else 'Unknown'\n",
    "\n",
    "            # Append data to the records list\n",
    "            data_records.append({\n",
    "                'Filename': filename,\n",
    "                'Gender': gender,\n",
    "                'Race': race,\n",
    "                'Ethnicity': ethnicity\n",
    "            })\n",
    "\n",
    "        except Exception as e:\n",
    "            print(f\"Failed to parse {filename}: {e}\")\n",
    "\n",
    "# Create DataFrame from the records\n",
    "df = pd.DataFrame(data_records)\n",
    "\n",
    "# Print the DataFrame\n",
    "print(df)\n",
    "\n",
    "# Optionally, save the DataFrame to a CSV file\n",
    "df.to_csv('output_summary_pivoted.csv', index=False)\n"
   ]
  },
  {
   "cell_type": "code",
   "execution_count": null,
   "id": "b47f3c29-8862-4411-be54-7365122ff84d",
   "metadata": {},
   "outputs": [],
   "source": []
  }
 ],
 "metadata": {
  "kernelspec": {
   "display_name": "Python [user-default]",
   "language": "python",
   "name": "conda-env-user-default-py"
  },
  "language_info": {
   "codemirror_mode": {
    "name": "ipython",
    "version": 3
   },
   "file_extension": ".py",
   "mimetype": "text/x-python",
   "name": "python",
   "nbconvert_exporter": "python",
   "pygments_lexer": "ipython3",
   "version": "3.12.7"
  }
 },
 "nbformat": 4,
 "nbformat_minor": 5
}

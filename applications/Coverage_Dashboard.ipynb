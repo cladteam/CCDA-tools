{
 "cells": [
  {
   "cell_type": "code",
   "execution_count": null,
   "id": "b2e0fa23-0eaa-4a68-a96c-ea806a520bb7",
   "metadata": {
    "tags": []
   },
   "outputs": [],
   "source": [
    "from lxml import etree as ET\n",
    "import dash\n",
    "from dash import dcc, html\n",
    "from dash import dash_table\n",
    "import pandas as pd\n",
    "import plotly.express as px\n",
    "\n",
    "# Load and parse the XML\n",
    "ccda_file = '../resources/CCD-Sample.xml'\n",
    "tree = ET.parse(ccda_file)\n",
    "root = tree.getroot()\n",
    "\n",
    "# Function to extract patient demographics\n",
    "def get_patient_demographics(root):\n",
    "    namespace = {'hl7': 'urn:hl7-org:v3'}\n",
    "    patient_info = root.find(\".//hl7:patientRole\", namespace)\n",
    "    patient_data = {\n",
    "        'Name': f\"{patient_info.find('.//hl7:given', namespace).text} {patient_info.find('.//hl7:family', namespace).text}\",\n",
    "        'Gender': patient_info.find('.//hl7:administrativeGenderCode', namespace).get('displayName'),\n",
    "        'Birth Date': patient_info.find('.//hl7:birthTime', namespace).get('value'),\n",
    "        'Address': f\"{patient_info.find('.//hl7:streetAddressLine', namespace).text}, {patient_info.find('.//hl7:city', namespace).text}, {patient_info.find('.//hl7:state', namespace).text}\",\n",
    "        'Phone': patient_info.find('.//hl7:telecom', namespace).get('value')\n",
    "    }\n",
    "    return patient_data\n",
    "\n",
    "# Extract patient demographics\n",
    "demographics = get_patient_demographics(root)\n",
    "\n",
    "# Extract encounters\n",
    "def get_encounters(root):\n",
    "    namespace = {'hl7': 'urn:hl7-org:v3'}\n",
    "    encounters = []\n",
    "    for encounter in root.findall(\".//hl7:encounter\", namespace):\n",
    "        data = {\n",
    "            'Code': encounter.find('hl7:code', namespace).get('displayName'),\n",
    "            'Effective Time': encounter.find('hl7:effectiveTime/hl7:low', namespace).get('value')\n",
    "        }\n",
    "        encounters.append(data)\n",
    "    return pd.DataFrame(encounters)\n",
    "\n",
    "encounters_df = get_encounters(root)\n",
    "\n",
    "# Initialize Dash app\n",
    "app = dash.Dash(__name__)\n",
    "\n",
    "app.layout = html.Div([\n",
    "    html.H1(\"CCDA Document Explorer\"),\n",
    "    html.Div([\n",
    "        html.H3(\"Patient Demographics\"),\n",
    "        html.Ul([html.Li(f\"{key}: {value}\") for key, value in demographics.items()])\n",
    "    ]),\n",
    "    html.Div([\n",
    "        html.H3(\"Encounters\"),\n",
    "        dash_table.DataTable(\n",
    "            id='encounters-table',\n",
    "            columns=[{\"name\": i, \"id\": i} for i in encounters_df.columns],\n",
    "            data=encounters_df.to_dict('records')\n",
    "        )\n",
    "    ])\n",
    "])\n",
    "\n",
    "if __name__ == '__main__':\n",
    "    app.run_server(debug=True, use_reloader=False)"
   ]
  },
  {
   "cell_type": "code",
   "execution_count": null,
   "id": "aef938c3-64d3-43a0-9adc-a14567df6bcd",
   "metadata": {},
   "outputs": [],
   "source": []
  }
 ],
 "metadata": {
  "kernelspec": {
   "display_name": "Python [user-default]",
   "language": "python",
   "name": "conda-env-user-default-py"
  },
  "language_info": {
   "codemirror_mode": {
    "name": "ipython",
    "version": 3
   },
   "file_extension": ".py",
   "mimetype": "text/x-python",
   "name": "python",
   "nbconvert_exporter": "python",
   "pygments_lexer": "ipython3",
   "version": "3.12.3"
  }
 },
 "nbformat": 4,
 "nbformat_minor": 5
}

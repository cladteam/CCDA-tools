{
 "cells": [
  {
   "cell_type": "code",
   "execution_count": null,
   "id": "2b3df99d-a18b-4ff9-a855-233d55ed35f2",
   "metadata": {
    "tags": []
   },
   "outputs": [],
   "source": [
    "import os\n",
    "import pandas as pd\n",
    "import argparse\n",
    "import re\n",
    "import lxml.etree as ET\n",
    "from xml_ns import ns\n",
    "from vocab_map_file import oid_map\n",
    "import vocab_maps\n",
    "import create_map_to_standard"
   ]
  },
  {
   "cell_type": "code",
   "execution_count": null,
   "id": "875c21b9-b9d0-4153-8d42-7019b0f8825d",
   "metadata": {},
   "outputs": [],
   "source": [
    "#Load Foundry Datasets\n",
    "from foundry.transforms import Dataset\n",
    "omop_concept = Dataset.get(\"concept\").read_table(format=\"pandas\")\n",
    "omop_concept_relationship = Dataset.get(\"concept_relationship\").read_table(format=\"pandas\")\n"
   ]
  },
  {
   "cell_type": "code",
   "execution_count": null,
   "id": "1790112a-3fcf-4ec6-92a3-fa1470e3639f",
   "metadata": {
    "tags": []
   },
   "outputs": [],
   "source": [
    "# Load and parse the XML file\n",
    "with open('./resources/Patient-502.xml', 'rb') as file:\n",
    "    tree = etree.parse(file)\n",
    "\n",
    "# Define namespaces to use when searching\n",
    "ns = {'hl7': 'urn:hl7-org:v3'}\n",
    "\n",
    "# Directory containing the XML files\n",
    "directory_path = './resources/'\n",
    "\n",
    "# Define namespaces to use when searching\n",
    "ns = {'hl7': 'urn:hl7-org:v3'}\n",
    "\n",
    "# Initialize a list to store records for DataFrame\n",
    "data_records = []"
   ]
  },
  {
   "cell_type": "code",
   "execution_count": null,
   "id": "f45d824e-4b23-4fc4-b45f-676307e5ac41",
   "metadata": {
    "tags": []
   },
   "outputs": [],
   "source": [
    "    print(\"Reading Vocab, takes a minute\")\n",
    "    concept_df = vocab_maps.read_concept()"
   ]
  },
  {
   "cell_type": "code",
   "execution_count": null,
   "id": "b154e9e9-55cb-42d4-bcd5-87c54be57b43",
   "metadata": {
    "tags": []
   },
   "outputs": [],
   "source": [
    " # get vocabularies\n",
    "(oid_map_df, concept_df, concept_relationship_df,source_to_concept_df) = vocab_maps.read_vocabulary_tables()"
   ]
  },
  {
   "cell_type": "code",
   "execution_count": null,
   "id": "808ab03a-a5f6-480a-aad2-66a3a7cf0071",
   "metadata": {
    "tags": []
   },
   "outputs": [],
   "source": [
    "\n",
    "\n",
    "# Iterate over all XML files in the directory\n",
    "for filename in os.listdir(directory_path):\n",
    "    if filename.endswith('.xml'):\n",
    "        file_path = os.path.join(directory_path, filename)\n",
    "\n",
    "        # Load and parse the XML file\n",
    "        try:\n",
    "            with open(file_path, 'rb') as file:\n",
    "                tree = ET.parse(file)\n",
    "\n",
    "            # Define elements to extract\n",
    "            elements = [\n",
    "                ('administrativeGenderCode', 'Gender'),\n",
    "                ('raceCode', 'Race'),\n",
    "                ('ethnicGroupCode', 'Ethnicity'),\n",
    "                ('birthTime', 'BirthTime')\n",
    "            ]\n",
    "            \n",
    "            # Extract data for each element\n",
    "            record = {'Filename': filename}\n",
    "            for tag, label in elements:\n",
    "                element = tree.find(f'.//hl7:{tag}', namespaces=ns)\n",
    "                value = element.get('displayName') if tag != 'birthTime' and element is not None else (\n",
    "                    element.get('value') if element is not None else 'Unknown'\n",
    "                )\n",
    "                record[label] = value\n",
    "\n",
    "            # Append data to the records list\n",
    "            data_records.append(record)\n",
    "\n",
    "        except Exception as e:\n",
    "            print(f\"Failed to parse {filename}: {e}\")\n",
    "\n",
    "# Create DataFrame from the records\n",
    "ccda_snooper_people = pd.DataFrame(data_records)\n",
    "\n",
    "# Print the DataFrame\n",
    "print(ccda_snooper_people)\n",
    "\n",
    "# Optionally, save the DataFrame to a CSV file\n",
    "#df.to_csv('output_summary_with_loop.csv', index=False)\n"
   ]
  },
  {
   "cell_type": "code",
   "execution_count": null,
   "id": "b47f3c29-8862-4411-be54-7365122ff84d",
   "metadata": {
    "tags": []
   },
   "outputs": [],
   "source": [
    "from foundry.transforms import Dataset\n",
    "\n",
    "dq_ccda_snooper_people = Dataset.get(\"dq_ccda_snooper_people\")\n",
    "dq_ccda_snooper_people.write_table(ccda_snooper_people)"
   ]
  },
  {
   "cell_type": "code",
   "execution_count": null,
   "id": "e866b506-3cce-4bf7-8b14-9076f060a610",
   "metadata": {},
   "outputs": [],
   "source": []
  }
 ],
 "metadata": {
  "kernelspec": {
   "display_name": "Python [user-default]",
   "language": "python",
   "name": "conda-env-user-default-py"
  },
  "language_info": {
   "codemirror_mode": {
    "name": "ipython",
    "version": 3
   },
   "file_extension": ".py",
   "mimetype": "text/x-python",
   "name": "python",
   "nbconvert_exporter": "python",
   "pygments_lexer": "ipython3",
   "version": "3.12.7"
  }
 },
 "nbformat": 4,
 "nbformat_minor": 5
}
